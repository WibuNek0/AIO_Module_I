{
 "cells": [
  {
   "cell_type": "code",
   "execution_count": 1,
   "metadata": {
    "id": "mcbrmiJ7dYWm"
   },
   "outputs": [],
   "source": [
    "import torch\n",
    "import torch.nn as nn"
   ]
  },
  {
   "cell_type": "code",
   "execution_count": 2,
   "metadata": {
    "id": "MO4pmW-LeuwB"
   },
   "outputs": [],
   "source": [
    "data = None\n",
    "data"
   ]
  },
  {
   "cell_type": "code",
   "execution_count": 3,
   "metadata": {
    "id": "eqkJzp6Ee1Bq"
   },
   "outputs": [],
   "source": [
    "softmax_function = None\n",
    "output = None\n",
    "output"
   ]
  },
  {
   "cell_type": "markdown",
   "metadata": {
    "id": "RuS7me1uumJ3"
   },
   "source": [
    "## **Exercise 1, 2**"
   ]
  },
  {
   "cell_type": "code",
   "execution_count": 6,
   "metadata": {},
   "outputs": [
    {
     "name": "stdout",
     "output_type": "stream",
     "text": [
      "tensor([0.9933, 0.9526])\n"
     ]
    }
   ],
   "source": [
    "x = torch.tensor([5.0, 3.0])\n",
    "\n",
    "output = torch.sigmoid(x)\n",
    "print(output)"
   ]
  },
  {
   "cell_type": "code",
   "execution_count": 7,
   "metadata": {
    "id": "grtnS8ljcsSp"
   },
   "outputs": [
    {
     "data": {
      "text/plain": [
       "tensor([0.9526, 0.1192])"
      ]
     },
     "execution_count": 7,
     "metadata": {},
     "output_type": "execute_result"
    }
   ],
   "source": [
    "import torch.nn as nn\n",
    "\n",
    "class MySigmoid(nn.Module):\n",
    "    def __init__(self):\n",
    "        super().__init__()\n",
    "\n",
    "    def forward(self, x):\n",
    "        return 1 / (1 + torch.exp(-x))\n",
    "\n",
    "# Create an instance of the custom sigmoid class\n",
    "data = torch.Tensor([3.0, -2.0])\n",
    "my_sigmoid = MySigmoid()\n",
    "output = my_sigmoid(data)\n",
    "output"
   ]
  },
  {
   "cell_type": "code",
   "execution_count": 8,
   "metadata": {
    "id": "6_M2zm0AqR3V"
   },
   "outputs": [
    {
     "name": "stdout",
     "output_type": "stream",
     "text": [
      "tensor([0.7311, 0.9933, 0.0180, 0.9526, 0.1192])\n"
     ]
    }
   ],
   "source": [
    "# input data\n",
    "x = torch.tensor([1, 5, -4, 3, -2])\n",
    "\n",
    "# sigmoid function\n",
    "output = my_sigmoid(x)\n",
    "print(output)"
   ]
  },
  {
   "cell_type": "markdown",
   "metadata": {
    "id": "D6wYuHiUrbuq"
   },
   "source": [
    "## **Exercise 3, 4, 5**"
   ]
  },
  {
   "cell_type": "code",
   "execution_count": 19,
   "metadata": {
    "id": "qNCP5hA9rTGN"
   },
   "outputs": [],
   "source": [
    "from abc import ABC, abstractmethod\n",
    "\n",
    "class Person(ABC):\n",
    "    def __init__(self, name:str, yob:int):\n",
    "        self._name = name\n",
    "        self._yob = yob\n",
    "\n",
    "    def get_yob(self):\n",
    "        return self._yob\n",
    "\n",
    "    @abstractmethod\n",
    "    def describe(self):\n",
    "        pass\n",
    "\n",
    "\n",
    "class Student(Person):\n",
    "    def __init__(self, name:str, yob:int, grade:str):\n",
    "        super().__init__(name, yob)\n",
    "        self._grade = grade\n",
    "    \n",
    "    def describe(self):\n",
    "        return f\"Student - Name: {self._name} - YoB: {self._yob} - Grade {self._grade}\"\n",
    "\n",
    "\n",
    "class Teacher(Person):\n",
    "    def __init__(self, name:str, yob:int, subject:str):\n",
    "        super().__init__(name, yob)\n",
    "        self._subject = subject\n",
    "    \n",
    "    def describe(self):\n",
    "        return f\"Teacher - Name: {self._name} - YoB: {self._yob} - Subject: {self._subject}\"\n",
    "\n",
    "class Doctor(Person):\n",
    "    def __init__(self, name:str, yob:int, specialist:str):\n",
    "        super().__init__(name, yob)\n",
    "        self._specialist = specialist\n",
    "    \n",
    "    def describe(self):\n",
    "        return f\"Doctor - Name: {self._name} - YoB: {self._yob} - Specialist: {self._specialist}\""
   ]
  },
  {
   "cell_type": "code",
   "execution_count": 20,
   "metadata": {
    "id": "Foonrj1T9i2j"
   },
   "outputs": [
    {
     "data": {
      "text/plain": [
       "'Doctor - Name: doctorZ2023 - YoB: 1981 - Specialist: Endocrinologists'"
      ]
     },
     "execution_count": 20,
     "metadata": {},
     "output_type": "execute_result"
    }
   ],
   "source": [
    "student1 = Student(name=\"studentZ2023\", yob=2011, grade=\"6\")\n",
    "student1.describe()\n",
    "\n",
    "teacher1 = Teacher(name=\"teacherZ2023\", yob=1991, subject=\"History\")\n",
    "teacher1.describe()\n",
    "\n",
    "doctor1 = Doctor(name=\"doctorZ2023\", yob=1981, specialist=\"Endocrinologists\")\n",
    "doctor1.describe()"
   ]
  },
  {
   "cell_type": "markdown",
   "metadata": {
    "id": "NieNw4D2v541"
   },
   "source": [
    "## **Exercise 6**"
   ]
  },
  {
   "cell_type": "code",
   "execution_count": 29,
   "metadata": {
    "id": "bFJmOUXXsjxq"
   },
   "outputs": [],
   "source": [
    "class Ward:\n",
    "    def __init__(self, name:str):\n",
    "        self.__name = name\n",
    "        self.__list_people = list()\n",
    "\n",
    "    def add_person(self, person:Person):\n",
    "        self.__list_people.append(person)\n",
    "\n",
    "    def describe(self):\n",
    "        print(f'Ward name: {self.__name}')\n",
    "        for person in self.__list_people:\n",
    "            print(person.describe())\n",
    "\n",
    "    def count_doctor(self):\n",
    "        count = 0\n",
    "        for person in self.__list_people:\n",
    "            if isinstance(person, Doctor):\n",
    "                count += 1\n",
    "        return count\n",
    "\n",
    "    def sort_age(self):\n",
    "        self.__list_people.sort(key=lambda x: x.get_yob())\n",
    "\n",
    "    def compute_average(self):\n",
    "        teacher_yobs = []\n",
    "        for person in self.__list_people:\n",
    "            if isinstance(person, Teacher):\n",
    "                teacher_yobs.append(2025 - person.get_yob())\n",
    "        return sum(teacher_yobs) / len(teacher_yobs)"
   ]
  },
  {
   "cell_type": "code",
   "execution_count": 30,
   "metadata": {
    "id": "l-b-8UqiszAJ"
   },
   "outputs": [
    {
     "name": "stdout",
     "output_type": "stream",
     "text": [
      "\n",
      "Ward name: Ward1\n",
      "Student - Name: studentA - YoB: 2010 - Grade 7\n",
      "Teacher - Name: teacherA - YoB: 1969 - Subject: Math\n",
      "Teacher - Name: teacherB - YoB: 1995 - Subject: History\n",
      "Doctor - Name: doctorA - YoB: 1945 - Specialist: Endocrinologists\n",
      "Doctor - Name: doctorB - YoB: 1975 - Specialist: Cardiologists\n",
      "\n",
      "Number of doctors: 2\n",
      "\n",
      "After sorting Age of Ward1 people\n",
      "Ward name: Ward1\n",
      "Doctor - Name: doctorA - YoB: 1945 - Specialist: Endocrinologists\n",
      "Teacher - Name: teacherA - YoB: 1969 - Subject: Math\n",
      "Doctor - Name: doctorB - YoB: 1975 - Specialist: Cardiologists\n",
      "Teacher - Name: teacherB - YoB: 1995 - Subject: History\n",
      "Student - Name: studentA - YoB: 2010 - Grade 7\n",
      "\n",
      "Average year of birth (teachers): 43.0\n"
     ]
    }
   ],
   "source": [
    "student1 = Student(name=\"studentA\", yob=2010, grade=\"7\")\n",
    "student1.describe()\n",
    "\n",
    "teacher1 = Teacher(name=\"teacherA\", yob=1969, subject=\"Math\")\n",
    "teacher1.describe()\n",
    "\n",
    "doctor1 = Doctor(name=\"doctorA\", yob=1945, specialist=\"Endocrinologists\")\n",
    "doctor1.describe()\n",
    "\n",
    "\n",
    "print()\n",
    "teacher2 = Teacher(name=\"teacherB\", yob=1995, subject=\"History\")\n",
    "doctor2 = Doctor(name=\"doctorB\", yob=1975, specialist=\"Cardiologists\")\n",
    "ward1 = Ward(name=\"Ward1\")\n",
    "ward1.add_person(student1)\n",
    "ward1.add_person(teacher1)\n",
    "ward1.add_person(teacher2)\n",
    "ward1.add_person(doctor1)\n",
    "ward1.add_person(doctor2)\n",
    "ward1.describe()\n",
    "\n",
    "# 2(c)\n",
    "print(f\"\\nNumber of doctors: {ward1.count_doctor()}\")\n",
    "\n",
    "# 2(d)\n",
    "print(\"\\nAfter sorting Age of Ward1 people\")\n",
    "ward1.sort_age()\n",
    "ward1.describe()\n",
    "\n",
    "# 2(e)\n",
    "print(f\"\\nAverage year of birth (teachers): {ward1.compute_average()}\")"
   ]
  },
  {
   "cell_type": "markdown",
   "metadata": {
    "id": "kbwBOuG5WNx1"
   },
   "source": [
    "## **Exercise 7, 8**"
   ]
  },
  {
   "cell_type": "code",
   "execution_count": 31,
   "metadata": {
    "id": "POIazw1ns_Rw"
   },
   "outputs": [],
   "source": [
    "class MyStack:\n",
    "    def __init__(self, capacity):\n",
    "        self.__capacity = capacity\n",
    "        self.__stack = []\n",
    "\n",
    "    def is_empty(self):\n",
    "        return len(self.__stack) == 0\n",
    "\n",
    "    def is_full(self):\n",
    "        return len(self.__stack) == self.__capacity\n",
    "\n",
    "    def pop(self):\n",
    "        if self.is_empty():\n",
    "            print(\"Stack is empty!\")\n",
    "            return None\n",
    "        return self.__stack.pop()\n",
    "\n",
    "    def push(self, value):\n",
    "        if self.is_full():\n",
    "            print(\"Stack is full!\")\n",
    "            return \n",
    "        self.__stack.append(value)\n",
    "\n",
    "    def top(self):\n",
    "        if self.is_empty():\n",
    "            print(\"Stack is empty!\")\n",
    "            return None\n",
    "        return self.__stack[-1]"
   ]
  },
  {
   "cell_type": "code",
   "execution_count": 32,
   "metadata": {
    "id": "EWKe7COttJuJ"
   },
   "outputs": [
    {
     "name": "stdout",
     "output_type": "stream",
     "text": [
      "False\n",
      "2\n",
      "2\n",
      "1\n",
      "1\n",
      "True\n"
     ]
    }
   ],
   "source": [
    "stack1 = MyStack(capacity=5)\n",
    "\n",
    "stack1.push(1)\n",
    "\n",
    "stack1.push(2)\n",
    "\n",
    "print(stack1.is_full())\n",
    "\n",
    "print(stack1.top())\n",
    "\n",
    "print(stack1.pop())\n",
    "\n",
    "print(stack1.top())\n",
    "\n",
    "print(stack1.pop())\n",
    "\n",
    "print(stack1.is_empty())"
   ]
  },
  {
   "cell_type": "code",
   "execution_count": 33,
   "metadata": {
    "id": "oxCM7bM1tPUl"
   },
   "outputs": [
    {
     "name": "stdout",
     "output_type": "stream",
     "text": [
      "2\n",
      "True\n",
      "2\n",
      "1\n",
      "True\n",
      "Stack is empty!\n",
      "None\n"
     ]
    }
   ],
   "source": [
    "stack2 = MyStack(capacity=2)\n",
    "\n",
    "stack2.push(1)\n",
    "\n",
    "stack2.push(2)\n",
    "\n",
    "print(stack2.top())\n",
    "\n",
    "print(stack2.is_full())\n",
    "\n",
    "print(stack2.pop())\n",
    "\n",
    "print(stack2.pop())\n",
    "\n",
    "print(stack2.is_empty())\n",
    "\n",
    "print(stack2.pop())"
   ]
  },
  {
   "cell_type": "markdown",
   "metadata": {
    "id": "SuLQe7sNWTAp"
   },
   "source": [
    "## **Exercise 9, 10**"
   ]
  },
  {
   "cell_type": "code",
   "execution_count": 34,
   "metadata": {
    "id": "mtRK-r8JtWm8"
   },
   "outputs": [],
   "source": [
    "class MyQueue:\n",
    "    def __init__(self, capacity):\n",
    "        self.__capacity = capacity\n",
    "        self.__queue = []\n",
    "\n",
    "    def is_empty(self):\n",
    "        return len(self.__queue) == 0\n",
    "\n",
    "    def is_full(self):\n",
    "        return len(self.__queue) == self.__capacity\n",
    "\n",
    "    def dequeue(self):\n",
    "        if self.is_empty():\n",
    "            print(\"Queue is empty!\")\n",
    "            return None\n",
    "        return self.__queue.pop(0)\n",
    "\n",
    "    def enqueue(self, value):\n",
    "        if self.is_full():\n",
    "            print(\"Queue is full!\")\n",
    "            return \n",
    "        self.__queue.append(value)\n",
    "\n",
    "    def front(self):\n",
    "        if self.is_empty():\n",
    "            print(\"Queue is empty!\")\n",
    "            return None\n",
    "        return self.__queue[0]"
   ]
  },
  {
   "cell_type": "code",
   "execution_count": 35,
   "metadata": {
    "id": "qdA5TlTetZjd"
   },
   "outputs": [
    {
     "name": "stdout",
     "output_type": "stream",
     "text": [
      "False\n",
      "1\n",
      "1\n",
      "2\n",
      "2\n",
      "True\n"
     ]
    }
   ],
   "source": [
    "queue1 = MyQueue(capacity=5)\n",
    "\n",
    "queue1.enqueue(1)\n",
    "\n",
    "queue1.enqueue(2)\n",
    "\n",
    "print(queue1.is_full())\n",
    "\n",
    "print(queue1.front())\n",
    "\n",
    "print(queue1.dequeue())\n",
    "\n",
    "print(queue1.front())\n",
    "\n",
    "print(queue1.dequeue())\n",
    "\n",
    "print(queue1.is_empty())"
   ]
  },
  {
   "cell_type": "code",
   "execution_count": 36,
   "metadata": {
    "id": "Px5WMyWRtcnn"
   },
   "outputs": [
    {
     "name": "stdout",
     "output_type": "stream",
     "text": [
      "1\n",
      "True\n",
      "1\n",
      "2\n",
      "True\n"
     ]
    }
   ],
   "source": [
    "queue2 =  MyQueue(capacity=2)\n",
    "\n",
    "queue2.enqueue(1)\n",
    "\n",
    "queue2.enqueue(2)\n",
    "\n",
    "print(queue2.front())\n",
    "\n",
    "print(queue2.is_full())\n",
    "\n",
    "print(queue2.dequeue())\n",
    "\n",
    "print(queue2.dequeue())\n",
    "\n",
    "print(queue2.is_empty())"
   ]
  },
  {
   "cell_type": "code",
   "execution_count": null,
   "metadata": {
    "id": "xjt3BGfmtfva"
   },
   "outputs": [],
   "source": [
    "queue1 = MyQueue(capacity=2)\n",
    "\n",
    "queue1.enqueue(1)\n",
    "\n",
    "queue1.enqueue(2)\n",
    "\n",
    "queue1.enqueue(2)"
   ]
  },
  {
   "cell_type": "code",
   "execution_count": null,
   "metadata": {
    "id": "m2edbu2GtkAE"
   },
   "outputs": [],
   "source": []
  }
 ],
 "metadata": {
  "colab": {
   "provenance": []
  },
  "kernelspec": {
   "display_name": "base",
   "language": "python",
   "name": "python3"
  },
  "language_info": {
   "codemirror_mode": {
    "name": "ipython",
    "version": 3
   },
   "file_extension": ".py",
   "mimetype": "text/x-python",
   "name": "python",
   "nbconvert_exporter": "python",
   "pygments_lexer": "ipython3",
   "version": "3.10.16"
  }
 },
 "nbformat": 4,
 "nbformat_minor": 0
}
