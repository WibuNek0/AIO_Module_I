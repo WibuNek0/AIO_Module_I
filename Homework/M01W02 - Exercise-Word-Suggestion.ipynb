{
 "cells": [
  {
   "cell_type": "code",
   "execution_count": 1,
   "metadata": {},
   "outputs": [
    {
     "name": "stdout",
     "output_type": "stream",
     "text": [
      "[5, 5, 5, 5, 10, 12, 33, 33]\n"
     ]
    }
   ],
   "source": [
    "def max_kernel(num_list, k):\n",
    "    \"\"\"\n",
    "    Trả về danh sách các giá trị lớn nhất trong mỗi cửa sổ con (window) kích thước k\n",
    "    chạy trượt trên danh sách num_list.\n",
    "\n",
    "    Parameters:\n",
    "    num_list (list of numbers): Danh sách các số đầu vào.\n",
    "    k (int): Kích thước của cửa sổ trượt.\n",
    "\n",
    "    Returns:\n",
    "    list: Danh sách các giá trị lớn nhất trong từng cửa sổ con liên tiếp.\n",
    "    \"\"\"\n",
    "    result = []\n",
    "    # Your Code Here\n",
    "    for i in range(len(num_list) - k + 1):\n",
    "        result.append(max(num_list[i:i+k]))\n",
    "    # End Code Here\n",
    "\n",
    "    return result\n",
    "\n",
    "assert max_kernel([3 , 4 , 5 , 1 , -44], 3) == [5, 5, 5]\n",
    "num_list = [3, 4, 5, 1, -44 , 5 ,10, 12 ,33, 1]\n",
    "k = 3\n",
    "print(max_kernel(num_list, k))"
   ]
  },
  {
   "cell_type": "code",
   "execution_count": 2,
   "metadata": {},
   "outputs": [
    {
     "name": "stdout",
     "output_type": "stream",
     "text": [
      "{'s': 2, 'm': 1, 'i': 1, 'l': 1, 'e': 1}\n"
     ]
    }
   ],
   "source": [
    "def count_character(word):\n",
    "    \"\"\"\n",
    "    Đếm số lần xuất hiện của từng ký tự trong chuỗi đầu vào.\n",
    "\n",
    "    Parameters:\n",
    "    word (str): Chuỗi ký tự cần thống kê.\n",
    "\n",
    "    Returns:\n",
    "    dict: Từ điển với mỗi ký tự là một khóa, giá trị là số lần xuất hiện.\n",
    "    \"\"\"\n",
    "    character_statistic = {}\n",
    "\n",
    "    # Your Code Here\n",
    "    for char in word:\n",
    "        if char in character_statistic:\n",
    "            character_statistic[char] += 1\n",
    "        else:\n",
    "            character_statistic[char] = 1\n",
    "    # End Code Here\n",
    "    return character_statistic\n",
    "\n",
    "assert count_character(\"Baby\") == {\"B\": 1, \"a\": 1, \"b\": 1, \"y\": 1}\n",
    "print(count_character(\"smiles\"))\n"
   ]
  },
  {
   "cell_type": "code",
   "execution_count": 5,
   "metadata": {},
   "outputs": [
    {
     "name": "stderr",
     "output_type": "stream",
     "text": [
      "Downloading...\n",
      "From: https://drive.google.com/uc?id=1IBScGdW2xlNsc9v5zSAya548kNgiOrko\n",
      "To: d:\\GitHub\\AIO_Daily\\Source Code\\Week15\\P1_data.txt\n",
      "\n",
      "  0%|          | 0.00/747 [00:00<?, ?B/s]\n",
      "100%|██████████| 747/747 [00:00<00:00, 1.42MB/s]\n"
     ]
    }
   ],
   "source": [
    "!gdown https://drive.google.com/uc?id=1IBScGdW2xlNsc9v5zSAya548kNgiOrko"
   ]
  },
  {
   "cell_type": "code",
   "execution_count": 6,
   "metadata": {},
   "outputs": [
    {
     "name": "stdout",
     "output_type": "stream",
     "text": [
      "6\n"
     ]
    }
   ],
   "source": [
    "\n",
    "def count_word(file_path):\n",
    "    \"\"\"\n",
    "    Đếm số lần xuất hiện của từng từ trong văn bản đầu vào sau khi tiền xử lý.\n",
    "\n",
    "    Quá trình tiền xử lý gồm:\n",
    "    - Chuyển văn bản thành chữ thường\n",
    "    - Loại bỏ dấu chấm (.) và dấu phẩy (,)\n",
    "    - Tách văn bản thành danh sách từ\n",
    "\n",
    "    Parameters:\n",
    "    file_path (str): Đường dẫn đến file.\n",
    "\n",
    "    Returns:\n",
    "    dict: Từ điển đếm số lần xuất hiện của từng từ.\n",
    "    \"\"\"\n",
    "    counter = {}\n",
    "\n",
    "    # Your Code Here\n",
    "    with open(file_path, 'r', encoding='utf-8') as file:\n",
    "        text = file.read()\n",
    "        text = text.lower()\n",
    "        text = text.replace('.', '').replace(',', '')\n",
    "        words = text.split()\n",
    "        for word in words:\n",
    "            if word in counter:\n",
    "                counter[word] += 1\n",
    "            else:\n",
    "                counter[word] = 1\n",
    "    # End Code Here\n",
    "    return counter\n",
    "\n",
    "file_path = \"./P1_data.txt\"\n",
    "result = count_word(file_path)\n",
    "assert result[\"who\"] == 3\n",
    "print(result[\"man\"])\n"
   ]
  },
  {
   "cell_type": "code",
   "execution_count": 9,
   "metadata": {},
   "outputs": [
    {
     "name": "stdout",
     "output_type": "stream",
     "text": [
      "3\n"
     ]
    }
   ],
   "source": [
    "def levenshtein_distance(token1, token2):\n",
    "    \"\"\"\n",
    "    Tính khoảng cách Levenshtein (edit distance) giữa hai chuỗi.\n",
    "\n",
    "    Khoảng cách Levenshtein là số lần chỉnh sửa nhỏ nhất (chèn, xóa, thay thế)\n",
    "    để biến chuỗi token1 thành token2.\n",
    "\n",
    "    Parameters:\n",
    "    token1 (str): Chuỗi thứ nhất.\n",
    "    token2 (str): Chuỗi thứ hai.\n",
    "\n",
    "    Returns:\n",
    "    int: Khoảng cách Levenshtein giữa hai chuỗi.\n",
    "    \"\"\"\n",
    "    # Your Code Here\n",
    "    m, n = len(token1), len(token2)\n",
    "    \n",
    "    # Tạo ma trận dp với kích thước (m+1) x (n+1)\n",
    "    dp = [[0] * (n + 1) for _ in range(m + 1)]\n",
    "    \n",
    "    # Khởi tạo hàng đầu và cột đầu\n",
    "    for i in range(m + 1):\n",
    "        dp[i][0] = i  # Xóa tất cả ký tự từ token1\n",
    "    for j in range(n + 1):\n",
    "        dp[0][j] = j  # Chèn tất cả ký tự vào token1\n",
    "    \n",
    "    # Điền ma trận dp\n",
    "    for i in range(1, m + 1):\n",
    "        for j in range(1, n + 1):\n",
    "            if token1[i-1] == token2[j-1]:\n",
    "                dp[i][j] = dp[i-1][j-1]  # Không cần thay đổi\n",
    "            else:\n",
    "                dp[i][j] = min(\n",
    "                    dp[i-1][j] + 1,     # Xóa\n",
    "                    dp[i][j-1] + 1,     # Chèn\n",
    "                    dp[i-1][j-1] + 1    # Thay thế\n",
    "                )\n",
    "    \n",
    "    distance = dp[m][n]\n",
    "    # End Code Here\n",
    "    return distance\n",
    "\n",
    "assert levenshtein_distance(\"hi\", \"hello\") == 4\n",
    "print(levenshtein_distance(\"hola\", \"hello\"))\n"
   ]
  },
  {
   "cell_type": "code",
   "execution_count": 10,
   "metadata": {},
   "outputs": [
    {
     "name": "stdout",
     "output_type": "stream",
     "text": [
      "True\n"
     ]
    }
   ],
   "source": [
    "def check_the_number(N):\n",
    "    list_of_numbers = []\n",
    "    result = \"\"\n",
    "    for i in range(1, 5):\n",
    "        #Your code here\n",
    "        # Su dung append them i vao trong list_of_number\n",
    "        list_of_numbers.append(i)\n",
    "        if N in list_of_numbers:\n",
    "            results = \"True\"\n",
    "        else:\n",
    "            results = \"False\"\n",
    "    return results\n",
    "\n",
    "N = 7\n",
    "assert check_the_number(N) == \"False\"\n",
    "\n",
    "N = 2\n",
    "results = check_the_number(N)\n",
    "print(results)"
   ]
  },
  {
   "cell_type": "code",
   "execution_count": 13,
   "metadata": {},
   "outputs": [
    {
     "name": "stdout",
     "output_type": "stream",
     "text": [
      "[2, 2, 2, 1, 1]\n"
     ]
    }
   ],
   "source": [
    "def my_function(data, max_value, min_value):\n",
    "    result = []\n",
    "    for i in data:\n",
    "        # Your code here\n",
    "        # Neu i < min_value thi them min vao result\n",
    "        if i < min_value:\n",
    "            result.append(min_value)\n",
    "        elif i > max_value:\n",
    "            result.append(max_value)\n",
    "        else:\n",
    "            result.append(i)\n",
    "    return result\n",
    "\n",
    "# test\n",
    "my_list = [5, 2, 5, 0, 1]\n",
    "max_value = 1\n",
    "min_value = 0\n",
    "assert my_function(my_list, max_value, min_value) == [1, 1, 1, 0, 1]\n",
    "\n",
    "my_list = [10, 2, 5, 0, 1]\n",
    "max_value = 2\n",
    "min_value = 1\n",
    "print(my_function(my_list, max_value, min_value))"
   ]
  },
  {
   "cell_type": "code",
   "execution_count": 14,
   "metadata": {},
   "outputs": [
    {
     "name": "stdout",
     "output_type": "stream",
     "text": [
      "-1\n"
     ]
    }
   ],
   "source": [
    "def my_function(n):\n",
    "    # Your code here\n",
    "    # Tìm giá trị nhỏ nhất của một list\n",
    "    return min(n)\n",
    "\n",
    "my_list = [1, 22, 93, -100]\n",
    "assert my_function(my_list) == -100\n",
    "\n",
    "my_list = [1, 2, 3, -1]\n",
    "print(my_function(my_list))\n"
   ]
  },
  {
   "cell_type": "code",
   "execution_count": 15,
   "metadata": {},
   "outputs": [
    {
     "name": "stdout",
     "output_type": "stream",
     "text": [
      "9\n"
     ]
    }
   ],
   "source": [
    "def my_function(n):\n",
    "    # Your code here\n",
    "    # Tìm giá trị lớn nhất của một list\n",
    "    return max(n)\n",
    "\n",
    "my_list = [1001, 9, 100, 0]\n",
    "assert my_function(my_list) == 1001\n",
    "\n",
    "my_list = [1, 9, 9, 0]\n",
    "print(my_function(my_list))\n"
   ]
  },
  {
   "cell_type": "code",
   "execution_count": 16,
   "metadata": {},
   "outputs": [
    {
     "name": "stdout",
     "output_type": "stream",
     "text": [
      "True\n"
     ]
    }
   ],
   "source": [
    "def my_function(integers, number = 1):\n",
    "    return any(\n",
    "        # Your code here: Thuc hien duyet tung phan tu trong integers,\n",
    "        # so sanh tung phan tu voi number, neu bang nhau tra ve True,\n",
    "        # khac nhau tra ve False\n",
    "        # vi du: integers = [1, 2, 3], number = 2,\n",
    "        # ban se tao ra list [False, True, False])\n",
    "        i == number for i in integers\n",
    "    )\n",
    "\n",
    "my_list = [1, 3, 9, 4]\n",
    "assert my_function(my_list, -1) == False\n",
    "\n",
    "my_list = [1, 2, 3, 4]\n",
    "print(my_function(my_list, 2))\n"
   ]
  },
  {
   "cell_type": "code",
   "execution_count": 17,
   "metadata": {},
   "outputs": [
    {
     "name": "stdout",
     "output_type": "stream",
     "text": [
      "1.0\n"
     ]
    }
   ],
   "source": [
    "def my_function(list_nums = [0, 1, 2]):\n",
    "    var = 0\n",
    "    for i in list_nums:\n",
    "        var += i\n",
    "    return var / len(list_nums)\n",
    "\n",
    "assert my_function([4, 6, 8]) == 6\n",
    "print(my_function())\n"
   ]
  },
  {
   "cell_type": "code",
   "execution_count": 18,
   "metadata": {},
   "outputs": [
    {
     "name": "stdout",
     "output_type": "stream",
     "text": [
      "[3, 6]\n"
     ]
    }
   ],
   "source": [
    "def my_function(data):\n",
    "    var = []\n",
    "    for i in data:\n",
    "        # Your code here\n",
    "        # Neu i la so chan thi them i vao var\n",
    "        if i % 3 == 0:\n",
    "            var.append(i)\n",
    "    return var\n",
    "\n",
    "assert my_function([3, 9, 4, 5]) == [3, 9]\n",
    "print(my_function([1, 2, 3, 5, 6]))"
   ]
  },
  {
   "cell_type": "code",
   "execution_count": 19,
   "metadata": {},
   "outputs": [
    {
     "name": "stdout",
     "output_type": "stream",
     "text": [
      "24\n"
     ]
    }
   ],
   "source": [
    "def my_function(y):\n",
    "    var = 1\n",
    "    while(y > 1):\n",
    "        #Your code here\n",
    "        var *= y\n",
    "        y -= 1\n",
    "    return var\n",
    "\n",
    "assert my_function(8) == 40320\n",
    "print(my_function(4))\n"
   ]
  },
  {
   "cell_type": "code",
   "execution_count": 20,
   "metadata": {},
   "outputs": [
    {
     "name": "stdout",
     "output_type": "stream",
     "text": [
      "tocirpa\n"
     ]
    }
   ],
   "source": [
    "def my_function(x):\n",
    "    #Your code here\n",
    "    return x[::-1]\n",
    "\n",
    "x = \"I can do it\"\n",
    "assert my_function(x) == \"ti od nac I\"\n",
    "\n",
    "x = \"apricot\"\n",
    "print(my_function(x))\n"
   ]
  },
  {
   "cell_type": "code",
   "execution_count": 21,
   "metadata": {},
   "outputs": [
    {
     "name": "stdout",
     "output_type": "stream",
     "text": [
      "['T', 'T', 'T', 'N']\n"
     ]
    }
   ],
   "source": [
    "def function_helper(x):\n",
    "    #Your code here\n",
    "    #Neu x > 0 tra ve \"T\", nguoc lai tra ve \"N\"\n",
    "    if x > 0:\n",
    "        return \"T\"\n",
    "    else:\n",
    "        return \"N\"\n",
    "\n",
    "def my_function(data):\n",
    "    res = [function_helper(x) for x in data]\n",
    "    return res\n",
    "\n",
    "data = [10, 0, -10, -1]\n",
    "assert my_function(data) == [\"T\", \"N\", \"N\", \"N\"]\n",
    "\n",
    "data = [2, 3, 5, -1]\n",
    "print(my_function(data))"
   ]
  },
  {
   "cell_type": "code",
   "execution_count": 25,
   "metadata": {},
   "outputs": [
    {
     "name": "stdout",
     "output_type": "stream",
     "text": [
      "[9, 8, 1]\n"
     ]
    }
   ],
   "source": [
    "def function_helper(x, data):\n",
    "    for i in data:\n",
    "        #Your code here\n",
    "        #Neu x == i thi return False (da ton tai)\n",
    "        if x == i:\n",
    "            return False\n",
    "    # Neu khong tim thay x trong data, return True (chua ton tai)\n",
    "    return True\n",
    "\n",
    "def my_function(data):\n",
    "    res = []\n",
    "    for i in data:\n",
    "        if function_helper(i, res):  # Sua == 1 thanh truthy check\n",
    "            res.append(i)\n",
    "    return res\n",
    "\n",
    "lst = [10, 10, 9, 7, 7]\n",
    "assert my_function(lst) == [10, 9, 7]\n",
    "\n",
    "lst = [9, 9, 8, 1, 1]\n",
    "print(my_function(lst))"
   ]
  }
 ],
 "metadata": {
  "kernelspec": {
   "display_name": "Python 3",
   "language": "python",
   "name": "python3"
  },
  "language_info": {
   "codemirror_mode": {
    "name": "ipython",
    "version": 3
   },
   "file_extension": ".py",
   "mimetype": "text/x-python",
   "name": "python",
   "nbconvert_exporter": "python",
   "pygments_lexer": "ipython3",
   "version": "3.10.16"
  }
 },
 "nbformat": 4,
 "nbformat_minor": 2
}
